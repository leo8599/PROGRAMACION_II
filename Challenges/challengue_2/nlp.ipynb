{
 "cells": [
  {
   "cell_type": "markdown",
   "metadata": {},
   "source": [
    "## Challenge 2 : NLP Comments\n",
    "\n",
    "He decidido hacer un webscraping de reddit para detectar el sentimiento de los comentarios de las personas.\n"
   ]
  },
  {
   "cell_type": "code",
   "execution_count": 1,
   "metadata": {},
   "outputs": [
    {
     "name": "stdout",
     "output_type": "stream",
     "text": [
      "0                                  Es tejuino o tezhuino?\n",
      "1       Ay si, creo si esta pésimo...en mi experiencia...\n",
      "2                     a rayos tenia la etiqueta de \"meme\"\n",
      "3       ¿Recuerdan cuando cosas así en Zapopan era alg...\n",
      "4       Yo hice el EGEL pero de licenciatura y te pued...\n",
      "                              ...                        \n",
      "6139    No sirven estas basuras de operativos siempre ...\n",
      "6140    Separados. Convéncela diciéndole que si tienes...\n",
      "6141    Que tal Profet2 te agrego como moderador, por ...\n",
      "6142                                   Estan bien chidas.\n",
      "6143           Hola! me interesa apoyar con la moderación\n",
      "Name: body, Length: 6144, dtype: object\n"
     ]
    }
   ],
   "source": [
    "import pandas as pd\n",
    "\n",
    "data = pd.read_json(\"./comments.json\")\n",
    "\n",
    "comments = data[\"body\"]\n",
    "print(comments)"
   ]
  },
  {
   "cell_type": "markdown",
   "metadata": {},
   "source": [
    "## Preprocessing"
   ]
  },
  {
   "cell_type": "code",
   "execution_count": 2,
   "metadata": {},
   "outputs": [
    {
     "data": {
      "text/plain": [
       "count                                        6144\n",
       "unique                                       6044\n",
       "top       Esto que tiene que ver con Guadalajara?\n",
       "freq                                            8\n",
       "Name: body, dtype: object"
      ]
     },
     "execution_count": 2,
     "metadata": {},
     "output_type": "execute_result"
    }
   ],
   "source": [
    "comments.describe()"
   ]
  },
  {
   "cell_type": "code",
   "execution_count": 3,
   "metadata": {},
   "outputs": [
    {
     "data": {
      "text/plain": [
       "array(['00', '000', '0000', ..., 'сhapter', 'வன', '二宮沙樹'], dtype=object)"
      ]
     },
     "execution_count": 3,
     "metadata": {},
     "output_type": "execute_result"
    }
   ],
   "source": [
    "# import and instantiatea CountVectorizer (with the default parameters)\n",
    "from sklearn.feature_extraction.text import CountVectorizer\n",
    "\n",
    "vect = CountVectorizer()\n",
    "\n",
    "# learn the 'vocabulary' of the training data (occurs in-place)\n",
    "vect.fit(comments)\n",
    "\n",
    "# examine the fitted vocabulary\n",
    "vect.get_feature_names_out()"
   ]
  },
  {
   "cell_type": "code",
   "execution_count": 4,
   "metadata": {},
   "outputs": [
    {
     "data": {
      "text/plain": [
       "<6144x20494 sparse matrix of type '<class 'numpy.int64'>'\n",
       "\twith 133757 stored elements in Compressed Sparse Row format>"
      ]
     },
     "execution_count": 4,
     "metadata": {},
     "output_type": "execute_result"
    }
   ],
   "source": [
    "# transform training data into a 'document-term matrix'\n",
    "dtm = vect.transform(comments)\n",
    "dtm"
   ]
  },
  {
   "cell_type": "code",
   "execution_count": 5,
   "metadata": {},
   "outputs": [
    {
     "data": {
      "text/plain": [
       "array([[0, 0, 0, ..., 0, 0, 0],\n",
       "       [0, 0, 0, ..., 0, 0, 0],\n",
       "       [0, 0, 0, ..., 0, 0, 0],\n",
       "       ...,\n",
       "       [0, 0, 0, ..., 0, 0, 0],\n",
       "       [0, 0, 0, ..., 0, 0, 0],\n",
       "       [0, 0, 0, ..., 0, 0, 0]], dtype=int64)"
      ]
     },
     "execution_count": 5,
     "metadata": {},
     "output_type": "execute_result"
    }
   ],
   "source": [
    "# convert sparse matrix to a dense matrix\n",
    "dtm.toarray()\n",
    "\n"
   ]
  },
  {
   "cell_type": "code",
   "execution_count": 6,
   "metadata": {},
   "outputs": [
    {
     "data": {
      "text/html": [
       "<div>\n",
       "<style scoped>\n",
       "    .dataframe tbody tr th:only-of-type {\n",
       "        vertical-align: middle;\n",
       "    }\n",
       "\n",
       "    .dataframe tbody tr th {\n",
       "        vertical-align: top;\n",
       "    }\n",
       "\n",
       "    .dataframe thead th {\n",
       "        text-align: right;\n",
       "    }\n",
       "</style>\n",
       "<table border=\"1\" class=\"dataframe\">\n",
       "  <thead>\n",
       "    <tr style=\"text-align: right;\">\n",
       "      <th></th>\n",
       "      <th>00</th>\n",
       "      <th>000</th>\n",
       "      <th>0000</th>\n",
       "      <th>0001</th>\n",
       "      <th>000webhost</th>\n",
       "      <th>002</th>\n",
       "      <th>00pm</th>\n",
       "      <th>01</th>\n",
       "      <th>0101</th>\n",
       "      <th>02</th>\n",
       "      <th>...</th>\n",
       "      <th>única</th>\n",
       "      <th>únicamente</th>\n",
       "      <th>únicas</th>\n",
       "      <th>único</th>\n",
       "      <th>únicos</th>\n",
       "      <th>útil</th>\n",
       "      <th>μ_μ</th>\n",
       "      <th>сhapter</th>\n",
       "      <th>வன</th>\n",
       "      <th>二宮沙樹</th>\n",
       "    </tr>\n",
       "  </thead>\n",
       "  <tbody>\n",
       "    <tr>\n",
       "      <th>0</th>\n",
       "      <td>0</td>\n",
       "      <td>0</td>\n",
       "      <td>0</td>\n",
       "      <td>0</td>\n",
       "      <td>0</td>\n",
       "      <td>0</td>\n",
       "      <td>0</td>\n",
       "      <td>0</td>\n",
       "      <td>0</td>\n",
       "      <td>0</td>\n",
       "      <td>...</td>\n",
       "      <td>0</td>\n",
       "      <td>0</td>\n",
       "      <td>0</td>\n",
       "      <td>0</td>\n",
       "      <td>0</td>\n",
       "      <td>0</td>\n",
       "      <td>0</td>\n",
       "      <td>0</td>\n",
       "      <td>0</td>\n",
       "      <td>0</td>\n",
       "    </tr>\n",
       "    <tr>\n",
       "      <th>1</th>\n",
       "      <td>0</td>\n",
       "      <td>0</td>\n",
       "      <td>0</td>\n",
       "      <td>0</td>\n",
       "      <td>0</td>\n",
       "      <td>0</td>\n",
       "      <td>0</td>\n",
       "      <td>0</td>\n",
       "      <td>0</td>\n",
       "      <td>0</td>\n",
       "      <td>...</td>\n",
       "      <td>0</td>\n",
       "      <td>0</td>\n",
       "      <td>0</td>\n",
       "      <td>0</td>\n",
       "      <td>0</td>\n",
       "      <td>0</td>\n",
       "      <td>0</td>\n",
       "      <td>0</td>\n",
       "      <td>0</td>\n",
       "      <td>0</td>\n",
       "    </tr>\n",
       "    <tr>\n",
       "      <th>2</th>\n",
       "      <td>0</td>\n",
       "      <td>0</td>\n",
       "      <td>0</td>\n",
       "      <td>0</td>\n",
       "      <td>0</td>\n",
       "      <td>0</td>\n",
       "      <td>0</td>\n",
       "      <td>0</td>\n",
       "      <td>0</td>\n",
       "      <td>0</td>\n",
       "      <td>...</td>\n",
       "      <td>0</td>\n",
       "      <td>0</td>\n",
       "      <td>0</td>\n",
       "      <td>0</td>\n",
       "      <td>0</td>\n",
       "      <td>0</td>\n",
       "      <td>0</td>\n",
       "      <td>0</td>\n",
       "      <td>0</td>\n",
       "      <td>0</td>\n",
       "    </tr>\n",
       "    <tr>\n",
       "      <th>3</th>\n",
       "      <td>0</td>\n",
       "      <td>0</td>\n",
       "      <td>0</td>\n",
       "      <td>0</td>\n",
       "      <td>0</td>\n",
       "      <td>0</td>\n",
       "      <td>0</td>\n",
       "      <td>0</td>\n",
       "      <td>0</td>\n",
       "      <td>0</td>\n",
       "      <td>...</td>\n",
       "      <td>0</td>\n",
       "      <td>0</td>\n",
       "      <td>0</td>\n",
       "      <td>0</td>\n",
       "      <td>0</td>\n",
       "      <td>0</td>\n",
       "      <td>0</td>\n",
       "      <td>0</td>\n",
       "      <td>0</td>\n",
       "      <td>0</td>\n",
       "    </tr>\n",
       "    <tr>\n",
       "      <th>4</th>\n",
       "      <td>0</td>\n",
       "      <td>0</td>\n",
       "      <td>0</td>\n",
       "      <td>0</td>\n",
       "      <td>0</td>\n",
       "      <td>0</td>\n",
       "      <td>0</td>\n",
       "      <td>0</td>\n",
       "      <td>0</td>\n",
       "      <td>0</td>\n",
       "      <td>...</td>\n",
       "      <td>0</td>\n",
       "      <td>0</td>\n",
       "      <td>0</td>\n",
       "      <td>0</td>\n",
       "      <td>0</td>\n",
       "      <td>0</td>\n",
       "      <td>0</td>\n",
       "      <td>0</td>\n",
       "      <td>0</td>\n",
       "      <td>0</td>\n",
       "    </tr>\n",
       "    <tr>\n",
       "      <th>...</th>\n",
       "      <td>...</td>\n",
       "      <td>...</td>\n",
       "      <td>...</td>\n",
       "      <td>...</td>\n",
       "      <td>...</td>\n",
       "      <td>...</td>\n",
       "      <td>...</td>\n",
       "      <td>...</td>\n",
       "      <td>...</td>\n",
       "      <td>...</td>\n",
       "      <td>...</td>\n",
       "      <td>...</td>\n",
       "      <td>...</td>\n",
       "      <td>...</td>\n",
       "      <td>...</td>\n",
       "      <td>...</td>\n",
       "      <td>...</td>\n",
       "      <td>...</td>\n",
       "      <td>...</td>\n",
       "      <td>...</td>\n",
       "      <td>...</td>\n",
       "    </tr>\n",
       "    <tr>\n",
       "      <th>6139</th>\n",
       "      <td>0</td>\n",
       "      <td>0</td>\n",
       "      <td>0</td>\n",
       "      <td>0</td>\n",
       "      <td>0</td>\n",
       "      <td>0</td>\n",
       "      <td>0</td>\n",
       "      <td>0</td>\n",
       "      <td>0</td>\n",
       "      <td>0</td>\n",
       "      <td>...</td>\n",
       "      <td>0</td>\n",
       "      <td>0</td>\n",
       "      <td>0</td>\n",
       "      <td>0</td>\n",
       "      <td>0</td>\n",
       "      <td>0</td>\n",
       "      <td>0</td>\n",
       "      <td>0</td>\n",
       "      <td>0</td>\n",
       "      <td>0</td>\n",
       "    </tr>\n",
       "    <tr>\n",
       "      <th>6140</th>\n",
       "      <td>0</td>\n",
       "      <td>0</td>\n",
       "      <td>0</td>\n",
       "      <td>0</td>\n",
       "      <td>0</td>\n",
       "      <td>0</td>\n",
       "      <td>0</td>\n",
       "      <td>0</td>\n",
       "      <td>0</td>\n",
       "      <td>0</td>\n",
       "      <td>...</td>\n",
       "      <td>0</td>\n",
       "      <td>0</td>\n",
       "      <td>0</td>\n",
       "      <td>0</td>\n",
       "      <td>0</td>\n",
       "      <td>0</td>\n",
       "      <td>0</td>\n",
       "      <td>0</td>\n",
       "      <td>0</td>\n",
       "      <td>0</td>\n",
       "    </tr>\n",
       "    <tr>\n",
       "      <th>6141</th>\n",
       "      <td>0</td>\n",
       "      <td>0</td>\n",
       "      <td>0</td>\n",
       "      <td>0</td>\n",
       "      <td>0</td>\n",
       "      <td>0</td>\n",
       "      <td>0</td>\n",
       "      <td>0</td>\n",
       "      <td>0</td>\n",
       "      <td>0</td>\n",
       "      <td>...</td>\n",
       "      <td>0</td>\n",
       "      <td>0</td>\n",
       "      <td>0</td>\n",
       "      <td>0</td>\n",
       "      <td>0</td>\n",
       "      <td>0</td>\n",
       "      <td>0</td>\n",
       "      <td>0</td>\n",
       "      <td>0</td>\n",
       "      <td>0</td>\n",
       "    </tr>\n",
       "    <tr>\n",
       "      <th>6142</th>\n",
       "      <td>0</td>\n",
       "      <td>0</td>\n",
       "      <td>0</td>\n",
       "      <td>0</td>\n",
       "      <td>0</td>\n",
       "      <td>0</td>\n",
       "      <td>0</td>\n",
       "      <td>0</td>\n",
       "      <td>0</td>\n",
       "      <td>0</td>\n",
       "      <td>...</td>\n",
       "      <td>0</td>\n",
       "      <td>0</td>\n",
       "      <td>0</td>\n",
       "      <td>0</td>\n",
       "      <td>0</td>\n",
       "      <td>0</td>\n",
       "      <td>0</td>\n",
       "      <td>0</td>\n",
       "      <td>0</td>\n",
       "      <td>0</td>\n",
       "    </tr>\n",
       "    <tr>\n",
       "      <th>6143</th>\n",
       "      <td>0</td>\n",
       "      <td>0</td>\n",
       "      <td>0</td>\n",
       "      <td>0</td>\n",
       "      <td>0</td>\n",
       "      <td>0</td>\n",
       "      <td>0</td>\n",
       "      <td>0</td>\n",
       "      <td>0</td>\n",
       "      <td>0</td>\n",
       "      <td>...</td>\n",
       "      <td>0</td>\n",
       "      <td>0</td>\n",
       "      <td>0</td>\n",
       "      <td>0</td>\n",
       "      <td>0</td>\n",
       "      <td>0</td>\n",
       "      <td>0</td>\n",
       "      <td>0</td>\n",
       "      <td>0</td>\n",
       "      <td>0</td>\n",
       "    </tr>\n",
       "  </tbody>\n",
       "</table>\n",
       "<p>6144 rows × 20494 columns</p>\n",
       "</div>"
      ],
      "text/plain": [
       "      00  000  0000  0001  000webhost  002  00pm  01  0101  02  ...  única  \\\n",
       "0      0    0     0     0           0    0     0   0     0   0  ...      0   \n",
       "1      0    0     0     0           0    0     0   0     0   0  ...      0   \n",
       "2      0    0     0     0           0    0     0   0     0   0  ...      0   \n",
       "3      0    0     0     0           0    0     0   0     0   0  ...      0   \n",
       "4      0    0     0     0           0    0     0   0     0   0  ...      0   \n",
       "...   ..  ...   ...   ...         ...  ...   ...  ..   ...  ..  ...    ...   \n",
       "6139   0    0     0     0           0    0     0   0     0   0  ...      0   \n",
       "6140   0    0     0     0           0    0     0   0     0   0  ...      0   \n",
       "6141   0    0     0     0           0    0     0   0     0   0  ...      0   \n",
       "6142   0    0     0     0           0    0     0   0     0   0  ...      0   \n",
       "6143   0    0     0     0           0    0     0   0     0   0  ...      0   \n",
       "\n",
       "      únicamente  únicas  único  únicos  útil  μ_μ  сhapter  வன  二宮沙樹  \n",
       "0              0       0      0       0     0    0        0   0     0  \n",
       "1              0       0      0       0     0    0        0   0     0  \n",
       "2              0       0      0       0     0    0        0   0     0  \n",
       "3              0       0      0       0     0    0        0   0     0  \n",
       "4              0       0      0       0     0    0        0   0     0  \n",
       "...          ...     ...    ...     ...   ...  ...      ...  ..   ...  \n",
       "6139           0       0      0       0     0    0        0   0     0  \n",
       "6140           0       0      0       0     0    0        0   0     0  \n",
       "6141           0       0      0       0     0    0        0   0     0  \n",
       "6142           0       0      0       0     0    0        0   0     0  \n",
       "6143           0       0      0       0     0    0        0   0     0  \n",
       "\n",
       "[6144 rows x 20494 columns]"
      ]
     },
     "execution_count": 6,
     "metadata": {},
     "output_type": "execute_result"
    }
   ],
   "source": [
    "# examine the vocabulary and document-term matrix together\n",
    "pd.DataFrame(dtm.toarray(), columns=vect.get_feature_names_out())"
   ]
  },
  {
   "cell_type": "code",
   "execution_count": 7,
   "metadata": {},
   "outputs": [
    {
     "name": "stdout",
     "output_type": "stream",
     "text": [
      "  (0, 7635)\t1\n",
      "  (0, 18492)\t1\n",
      "  (0, 18689)\t1\n",
      "  (1, 397)\t1\n",
      "  (1, 1327)\t1\n",
      "  (1, 2473)\t1\n",
      "  (1, 2518)\t1\n",
      "  (1, 2552)\t1\n",
      "  (1, 2718)\t1\n",
      "  (1, 2855)\t3\n",
      "  (1, 2971)\t1\n",
      "  (1, 3092)\t1\n",
      "  (1, 3122)\t1\n",
      "  (1, 3123)\t1\n",
      "  (1, 3124)\t1\n",
      "  (1, 3309)\t1\n",
      "  (1, 3383)\t1\n",
      "  (1, 3572)\t1\n",
      "  (1, 3802)\t1\n",
      "  (1, 3816)\t1\n",
      "  (1, 3846)\t1\n",
      "  (1, 4002)\t1\n",
      "  (1, 4470)\t1\n",
      "  (1, 4542)\t1\n",
      "  (1, 4709)\t2\n",
      "  :\t:\n",
      "  (6141, 12983)\t1\n",
      "  (6141, 13984)\t1\n",
      "  (6141, 14962)\t1\n",
      "  (6141, 15183)\t1\n",
      "  (6141, 15393)\t1\n",
      "  (6141, 15603)\t1\n",
      "  (6141, 15751)\t2\n",
      "  (6141, 16782)\t1\n",
      "  (6141, 17193)\t1\n",
      "  (6141, 17795)\t1\n",
      "  (6141, 18341)\t1\n",
      "  (6141, 18456)\t2\n",
      "  (6141, 19247)\t1\n",
      "  (6141, 19285)\t1\n",
      "  (6141, 19414)\t1\n",
      "  (6142, 2855)\t1\n",
      "  (6142, 3999)\t1\n",
      "  (6142, 7899)\t1\n",
      "  (6143, 1905)\t1\n",
      "  (6143, 4709)\t1\n",
      "  (6143, 9837)\t1\n",
      "  (6143, 10563)\t1\n",
      "  (6143, 11153)\t1\n",
      "  (6143, 12221)\t1\n",
      "  (6143, 12676)\t1\n"
     ]
    }
   ],
   "source": [
    "# examine the sparse matrix contents\n",
    "print(dtm)"
   ]
  },
  {
   "cell_type": "markdown",
   "metadata": {},
   "source": [
    "### Data cleaning\n"
   ]
  },
  {
   "cell_type": "code",
   "execution_count": 8,
   "metadata": {},
   "outputs": [],
   "source": [
    "import string\n",
    "from nltk.corpus import stopwords\n",
    "\n",
    "def text_process(mess):\n",
    "    \"\"\"\n",
    "    Takes in a string of text, then performs the following:\n",
    "    1. Remove all punctuation\n",
    "    2. Remove all stopwords\n",
    "    3. Returns a list of the cleaned text\n",
    "    \"\"\"\n",
    "    STOPWORDS = stopwords.words('spanish')\n",
    "    # Check characters to see if they are in punctuation\n",
    "    nopunc = [char for char in mess if char not in string.punctuation]\n",
    "\n",
    "    # Join the characters again to form the string.\n",
    "    nopunc = ''.join(nopunc)\n",
    "    \n",
    "    # Now just remove any stopwords\n",
    "    return ' '.join([word for word in nopunc.split() if word.lower() not in STOPWORDS])"
   ]
  },
  {
   "cell_type": "code",
   "execution_count": 9,
   "metadata": {},
   "outputs": [
    {
     "data": {
      "text/plain": [
       "0                                        tejuino tezhuino\n",
       "1       Ay si creo si pésimoen experiencia super mamon...\n",
       "2                               rayos tenia etiqueta meme\n",
       "3       ¿Recuerdan cosas así Zapopan comillas raro pas...\n",
       "4       hice EGEL licenciatura puedo decir mientras id...\n",
       "                              ...                        \n",
       "6139    sirven basuras operativos siempre tarde mañana...\n",
       "6140    Separados Convéncela diciéndole si problemas i...\n",
       "6141    tal Profet2 agrego moderador favor unete rMxMo...\n",
       "6142                                    Estan bien chidas\n",
       "6143                      Hola interesa apoyar moderación\n",
       "Name: clean_body, Length: 6144, dtype: object"
      ]
     },
     "execution_count": 9,
     "metadata": {},
     "output_type": "execute_result"
    }
   ],
   "source": [
    "data[\"clean_body\"] = data.body.apply(text_process)\n",
    "data[\"clean_body\"]"
   ]
  },
  {
   "cell_type": "markdown",
   "metadata": {},
   "source": [
    "## Lematizacion"
   ]
  },
  {
   "cell_type": "code",
   "execution_count": 10,
   "metadata": {},
   "outputs": [
    {
     "name": "stdout",
     "output_type": "stream",
     "text": [
      "Original Text:\n",
      "Ay si creo si pésimoen experiencia super mamones vestimenta llegaron revisar bolsas si traía celular cafetería neta bien pinche cara porqueria training broma nunca entendí vender bien toco comcast vez metieron wey cubo 3x3 dio discurso positivo mientras gritaba pareció posible lavadito cerebro bien pendejo paga tan buena bah podría escribir dos páginas basuras pos quizá buenas experiencias buen Call center parecer RIU año ahí neta chido\n",
      "\n",
      "Lemmatized Text:\n",
      "ay si creer si pésimoen experiencia super mamón vestimenta llegar revisar bolsa si traer celular cafetería neta bien pinche cara porquerio training bromo nunca entender vender bien tocar comcast vez meter wey cubo 3x3 dar discurso positivo mientras gritar parecer posible lavadito cerebro bien pendejo pagar tanto buen bah poder escribir dos página basura pos quizá buena experiencia buen Call center parecer RIU año ahí neta chido\n"
     ]
    }
   ],
   "source": [
    "import spacy\n",
    "\n",
    "# Load the Spanish language model\n",
    "nlp = spacy.load('es_core_news_sm')\n",
    "\n",
    "def lemmatize_spanish_text(text):\n",
    "    # Process the text with spaCy\n",
    "    doc = nlp(text)\n",
    "    # Lemmatize each token and join them into a string\n",
    "    lemmatized_text = ' '.join([token.lemma_ for token in doc])\n",
    "    return lemmatized_text\n",
    "\n",
    "# Example usage\n",
    "comment = data[\"clean_body\"][1]\n",
    "lemmatized_text = lemmatize_spanish_text(comment)\n",
    "print(\"Original Text:\")\n",
    "print(comment)\n",
    "print(\"\\nLemmatized Text:\")\n",
    "print(lemmatized_text)"
   ]
  },
  {
   "cell_type": "code",
   "execution_count": 11,
   "metadata": {},
   "outputs": [
    {
     "data": {
      "text/plain": [
       "0                                        tejuino tezhuino\n",
       "1       ay si creer si pésimoen experiencia super mamó...\n",
       "2                               rayo tenia etiqueto memir\n",
       "3       ¿ recordar cosa así zapopar comilla raro pasar...\n",
       "4       hacer EGEL licenciaturo poder decir mientras i...\n",
       "                              ...                        \n",
       "6139    servir basura operativo siempre tarde mañana n...\n",
       "6140    Separados Convéncela decir él si problema ir v...\n",
       "6141    tal Profet2 agrego moderador favor unetir rmxm...\n",
       "6142                                     estar bien chida\n",
       "6143                     Hola interesar apoyar moderación\n",
       "Name: lemm_body, Length: 6144, dtype: object"
      ]
     },
     "execution_count": 11,
     "metadata": {},
     "output_type": "execute_result"
    }
   ],
   "source": [
    "data[\"lemm_body\"] = data[\"clean_body\"].apply(lemmatize_spanish_text)\n",
    "data[\"lemm_body\"]"
   ]
  },
  {
   "cell_type": "markdown",
   "metadata": {},
   "source": [
    "## Sentimental Analysis"
   ]
  },
  {
   "cell_type": "code",
   "execution_count": 12,
   "metadata": {},
   "outputs": [
    {
     "name": "stderr",
     "output_type": "stream",
     "text": [
      "[nltk_data] Downloading package vader_lexicon to\n",
      "[nltk_data]     C:\\Users\\ferna\\AppData\\Roaming\\nltk_data...\n",
      "[nltk_data]   Package vader_lexicon is already up-to-date!\n",
      "[nltk_data] Downloading package punkt to\n",
      "[nltk_data]     C:\\Users\\ferna\\AppData\\Roaming\\nltk_data...\n",
      "[nltk_data]   Package punkt is already up-to-date!\n",
      "[nltk_data] Downloading package averaged_perceptron_tagger to\n",
      "[nltk_data]     C:\\Users\\ferna\\AppData\\Roaming\\nltk_data...\n",
      "[nltk_data]   Package averaged_perceptron_tagger is already up-to-\n",
      "[nltk_data]       date!\n",
      "[nltk_data] Downloading package stopwords to\n",
      "[nltk_data]     C:\\Users\\ferna\\AppData\\Roaming\\nltk_data...\n",
      "[nltk_data]   Package stopwords is already up-to-date!\n"
     ]
    }
   ],
   "source": [
    "import nltk\n",
    "from nltk.sentiment.vader import SentimentIntensityAnalyzer\n",
    "\n",
    "# Download the Spanish language model for NLTK\n",
    "nltk.download('vader_lexicon')\n",
    "nltk.download('punkt')\n",
    "nltk.download('averaged_perceptron_tagger')\n",
    "nltk.download('stopwords')\n",
    "\n",
    "# Initialize the Spanish VADER sentiment analyzer\n",
    "sid = SentimentIntensityAnalyzer()\n",
    "\n",
    "def analyze_sentiment(text):\n",
    "    # Use the polarity_scores method to obtain the sentiment scores\n",
    "    sentiment_scores = sid.polarity_scores(text)\n",
    "    \n",
    "    # Determine the overall sentiment based on the compound score\n",
    "    if sentiment_scores['compound'] >= 0.03:\n",
    "        return 'Positivo'\n",
    "    elif sentiment_scores['compound'] <= -0.03:\n",
    "        return 'Negativo'\n",
    "    else:\n",
    "        return 'Neutral'\n",
    "\n",
    "\n",
    "def analyze_sentiment_score(text):\n",
    "    # Use the polarity_scores method to obtain the sentiment scores\n",
    "    sentiment_scores = sid.polarity_scores(text)\n",
    "    \n",
    "    return sentiment_scores['compound']"
   ]
  },
  {
   "cell_type": "code",
   "execution_count": 13,
   "metadata": {},
   "outputs": [],
   "source": [
    "data[\"sentiment\"] = data[\"lemm_body\"].apply(analyze_sentiment)\n",
    "data[\"sentiment_res\"] = data[\"lemm_body\"].apply(analyze_sentiment_score)"
   ]
  },
  {
   "cell_type": "code",
   "execution_count": 14,
   "metadata": {},
   "outputs": [
    {
     "data": {
      "text/plain": [
       "<Axes: >"
      ]
     },
     "execution_count": 14,
     "metadata": {},
     "output_type": "execute_result"
    },
    {
     "data": {
      "image/png": "[encoded data removed]",
      "text/plain": [
       "<Figure size 640x480 with 1 Axes>"
      ]
     },
     "metadata": {},
     "output_type": "display_data"
    }
   ],
   "source": [
    "data[\"sentiment\"].hist()"
   ]
  },
  {
   "cell_type": "code",
   "execution_count": 15,
   "metadata": {},
   "outputs": [],
   "source": [
    "import pyLDAvis\n",
    "#import pyLDAvis.gensim_models\n",
    "pyLDAvis.enable_notebook() \n"
   ]
  },
  {
   "cell_type": "code",
   "execution_count": 16,
   "metadata": {},
   "outputs": [],
   "source": [
    "import gensim\n",
    "import gensim.corpora as corpora\n",
    "from gensim.corpora import Dictionary\n",
    "from gensim.models.coherencemodel import CoherenceModel\n",
    "from gensim.models.ldamodel import LdaModel\n",
    "\n",
    "from pprint import pprint\n",
    "\n",
    "import spacy\n",
    "\n",
    "import pickle\n",
    "import re\n",
    "import pyLDAvis\n",
    "import pyLDAvis.gensim\n",
    "\n",
    "import matplotlib.pyplot as plt\n",
    "import pandas as pd\n"
   ]
  },
  {
   "cell_type": "code",
   "execution_count": 17,
   "metadata": {},
   "outputs": [
    {
     "data": {
      "text/plain": [
       "0                                        tejuino tezhuino\n",
       "1       ay si creer si pésimoen experiencia super mamó...\n",
       "2                               rayo tenia etiqueto memir\n",
       "3       ¿ recordar cosa así zapopar comilla raro pasar...\n",
       "4       hacer EGEL licenciaturo poder decir mientras i...\n",
       "                              ...                        \n",
       "6139    servir basura operativo siempre tarde mañana n...\n",
       "6140    Separados Convéncela decir él si problema ir v...\n",
       "6141    tal Profet2 agrego moderador favor unetir rmxm...\n",
       "6142                                     estar bien chida\n",
       "6143                     Hola interesar apoyar moderación\n",
       "Name: lemm_body, Length: 6144, dtype: object"
      ]
     },
     "execution_count": 17,
     "metadata": {},
     "output_type": "execute_result"
    }
   ],
   "source": [
    "data[\"lemm_body\"]\n",
    "\n",
    "# TODO https://blog.devgenius.io/working-with-pyldavis-topic-modeling-exploration-tool-b03682d57079"
   ]
  },
  {
   "cell_type": "code",
   "execution_count": 18,
   "metadata": {},
   "outputs": [
    {
     "data": {
      "text/html": [
       "<div>\n",
       "<style scoped>\n",
       "    .dataframe tbody tr th:only-of-type {\n",
       "        vertical-align: middle;\n",
       "    }\n",
       "\n",
       "    .dataframe tbody tr th {\n",
       "        vertical-align: top;\n",
       "    }\n",
       "\n",
       "    .dataframe thead th {\n",
       "        text-align: right;\n",
       "    }\n",
       "</style>\n",
       "<table border=\"1\" class=\"dataframe\">\n",
       "  <thead>\n",
       "    <tr style=\"text-align: right;\">\n",
       "      <th></th>\n",
       "      <th>post_title</th>\n",
       "      <th>body</th>\n",
       "      <th>author</th>\n",
       "      <th>clean_body</th>\n",
       "      <th>lemm_body</th>\n",
       "      <th>sentiment</th>\n",
       "      <th>sentiment_res</th>\n",
       "    </tr>\n",
       "  </thead>\n",
       "  <tbody>\n",
       "    <tr>\n",
       "      <th>0</th>\n",
       "      <td>Papis y mamis tomen sus precauciones que ya es...</td>\n",
       "      <td>Es tejuino o tezhuino?</td>\n",
       "      <td>RyanDefog</td>\n",
       "      <td>tejuino tezhuino</td>\n",
       "      <td>tejuino tezhuino</td>\n",
       "      <td>Neutral</td>\n",
       "      <td>0.0000</td>\n",
       "    </tr>\n",
       "    <tr>\n",
       "      <th>1</th>\n",
       "      <td>Personas que trabajaron en teleperformance</td>\n",
       "      <td>Ay si, creo si esta pésimo...en mi experiencia...</td>\n",
       "      <td>Kraujas</td>\n",
       "      <td>Ay si creo si pésimoen experiencia super mamon...</td>\n",
       "      <td>ay si creer si pésimoen experiencia super mamó...</td>\n",
       "      <td>Positivo</td>\n",
       "      <td>0.5994</td>\n",
       "    </tr>\n",
       "    <tr>\n",
       "      <th>2</th>\n",
       "      <td>Aventuras GDL 🇲🇽☠️💀☠️</td>\n",
       "      <td>a rayos tenia la etiqueta de \"meme\"</td>\n",
       "      <td>fer_torres1010</td>\n",
       "      <td>rayos tenia etiqueta meme</td>\n",
       "      <td>rayo tenia etiqueto memir</td>\n",
       "      <td>Neutral</td>\n",
       "      <td>0.0000</td>\n",
       "    </tr>\n",
       "    <tr>\n",
       "      <th>3</th>\n",
       "      <td>Balacean a 2 mujeres en Zapopan de 16 y 17 años</td>\n",
       "      <td>¿Recuerdan cuando cosas así en Zapopan era alg...</td>\n",
       "      <td>Sea_Neighborhood_397</td>\n",
       "      <td>¿Recuerdan cosas así Zapopan comillas raro pas...</td>\n",
       "      <td>¿ recordar cosa así zapopar comilla raro pasar...</td>\n",
       "      <td>Neutral</td>\n",
       "      <td>0.0000</td>\n",
       "    </tr>\n",
       "    <tr>\n",
       "      <th>4</th>\n",
       "      <td>Titulación</td>\n",
       "      <td>Yo hice el EGEL pero de licenciatura y te pued...</td>\n",
       "      <td>The_XProphet</td>\n",
       "      <td>hice EGEL licenciatura puedo decir mientras id...</td>\n",
       "      <td>hacer EGEL licenciaturo poder decir mientras i...</td>\n",
       "      <td>Neutral</td>\n",
       "      <td>0.0000</td>\n",
       "    </tr>\n",
       "    <tr>\n",
       "      <th>...</th>\n",
       "      <td>...</td>\n",
       "      <td>...</td>\n",
       "      <td>...</td>\n",
       "      <td>...</td>\n",
       "      <td>...</td>\n",
       "      <td>...</td>\n",
       "      <td>...</td>\n",
       "    </tr>\n",
       "    <tr>\n",
       "      <th>6139</th>\n",
       "      <td>Van los gobiernos capitalino y del Edomex cont...</td>\n",
       "      <td>No sirven estas basuras de operativos siempre ...</td>\n",
       "      <td>None</td>\n",
       "      <td>sirven basuras operativos siempre tarde mañana...</td>\n",
       "      <td>servir basura operativo siempre tarde mañana n...</td>\n",
       "      <td>Neutral</td>\n",
       "      <td>0.0000</td>\n",
       "    </tr>\n",
       "    <tr>\n",
       "      <th>6140</th>\n",
       "      <td>¿Sociedad conyugal o bienes separados?</td>\n",
       "      <td>Separados. Convéncela diciéndole que si tienes...</td>\n",
       "      <td>heg9998</td>\n",
       "      <td>Separados Convéncela diciéndole si problemas i...</td>\n",
       "      <td>Separados Convéncela decir él si problema ir v...</td>\n",
       "      <td>Neutral</td>\n",
       "      <td>0.0000</td>\n",
       "    </tr>\n",
       "    <tr>\n",
       "      <th>6141</th>\n",
       "      <td>Se abren espacios limitados para formar parte ...</td>\n",
       "      <td>Que tal Profet2 te agrego como moderador, por ...</td>\n",
       "      <td>Nabor_C</td>\n",
       "      <td>tal Profet2 agrego moderador favor unete rMxMo...</td>\n",
       "      <td>tal Profet2 agrego moderador favor unetir rmxm...</td>\n",
       "      <td>Positivo</td>\n",
       "      <td>0.4019</td>\n",
       "    </tr>\n",
       "    <tr>\n",
       "      <th>6142</th>\n",
       "      <td>San Francisco Putla</td>\n",
       "      <td>Estan bien chidas.</td>\n",
       "      <td>texhat13</td>\n",
       "      <td>Estan bien chidas</td>\n",
       "      <td>estar bien chida</td>\n",
       "      <td>Neutral</td>\n",
       "      <td>0.0000</td>\n",
       "    </tr>\n",
       "    <tr>\n",
       "      <th>6143</th>\n",
       "      <td>Se abren espacios limitados para formar parte ...</td>\n",
       "      <td>Hola! me interesa apoyar con la moderación</td>\n",
       "      <td>Profet2</td>\n",
       "      <td>Hola interesa apoyar moderación</td>\n",
       "      <td>Hola interesar apoyar moderación</td>\n",
       "      <td>Neutral</td>\n",
       "      <td>0.0000</td>\n",
       "    </tr>\n",
       "  </tbody>\n",
       "</table>\n",
       "<p>6144 rows × 7 columns</p>\n",
       "</div>"
      ],
      "text/plain": [
       "                                             post_title  \\\n",
       "0     Papis y mamis tomen sus precauciones que ya es...   \n",
       "1            Personas que trabajaron en teleperformance   \n",
       "2                                 Aventuras GDL 🇲🇽☠️💀☠️   \n",
       "3       Balacean a 2 mujeres en Zapopan de 16 y 17 años   \n",
       "4                                           Titulación    \n",
       "...                                                 ...   \n",
       "6139  Van los gobiernos capitalino y del Edomex cont...   \n",
       "6140             ¿Sociedad conyugal o bienes separados?   \n",
       "6141  Se abren espacios limitados para formar parte ...   \n",
       "6142                                San Francisco Putla   \n",
       "6143  Se abren espacios limitados para formar parte ...   \n",
       "\n",
       "                                                   body                author  \\\n",
       "0                                Es tejuino o tezhuino?             RyanDefog   \n",
       "1     Ay si, creo si esta pésimo...en mi experiencia...               Kraujas   \n",
       "2                   a rayos tenia la etiqueta de \"meme\"        fer_torres1010   \n",
       "3     ¿Recuerdan cuando cosas así en Zapopan era alg...  Sea_Neighborhood_397   \n",
       "4     Yo hice el EGEL pero de licenciatura y te pued...          The_XProphet   \n",
       "...                                                 ...                   ...   \n",
       "6139  No sirven estas basuras de operativos siempre ...                  None   \n",
       "6140  Separados. Convéncela diciéndole que si tienes...               heg9998   \n",
       "6141  Que tal Profet2 te agrego como moderador, por ...               Nabor_C   \n",
       "6142                                 Estan bien chidas.              texhat13   \n",
       "6143         Hola! me interesa apoyar con la moderación               Profet2   \n",
       "\n",
       "                                             clean_body  \\\n",
       "0                                      tejuino tezhuino   \n",
       "1     Ay si creo si pésimoen experiencia super mamon...   \n",
       "2                             rayos tenia etiqueta meme   \n",
       "3     ¿Recuerdan cosas así Zapopan comillas raro pas...   \n",
       "4     hice EGEL licenciatura puedo decir mientras id...   \n",
       "...                                                 ...   \n",
       "6139  sirven basuras operativos siempre tarde mañana...   \n",
       "6140  Separados Convéncela diciéndole si problemas i...   \n",
       "6141  tal Profet2 agrego moderador favor unete rMxMo...   \n",
       "6142                                  Estan bien chidas   \n",
       "6143                    Hola interesa apoyar moderación   \n",
       "\n",
       "                                              lemm_body sentiment  \\\n",
       "0                                      tejuino tezhuino   Neutral   \n",
       "1     ay si creer si pésimoen experiencia super mamó...  Positivo   \n",
       "2                             rayo tenia etiqueto memir   Neutral   \n",
       "3     ¿ recordar cosa así zapopar comilla raro pasar...   Neutral   \n",
       "4     hacer EGEL licenciaturo poder decir mientras i...   Neutral   \n",
       "...                                                 ...       ...   \n",
       "6139  servir basura operativo siempre tarde mañana n...   Neutral   \n",
       "6140  Separados Convéncela decir él si problema ir v...   Neutral   \n",
       "6141  tal Profet2 agrego moderador favor unetir rmxm...  Positivo   \n",
       "6142                                   estar bien chida   Neutral   \n",
       "6143                   Hola interesar apoyar moderación   Neutral   \n",
       "\n",
       "      sentiment_res  \n",
       "0            0.0000  \n",
       "1            0.5994  \n",
       "2            0.0000  \n",
       "3            0.0000  \n",
       "4            0.0000  \n",
       "...             ...  \n",
       "6139         0.0000  \n",
       "6140         0.0000  \n",
       "6141         0.4019  \n",
       "6142         0.0000  \n",
       "6143         0.0000  \n",
       "\n",
       "[6144 rows x 7 columns]"
      ]
     },
     "execution_count": 18,
     "metadata": {},
     "output_type": "execute_result"
    }
   ],
   "source": [
    "data"
   ]
  },
  {
   "cell_type": "markdown",
   "metadata": {},
   "source": [
    "## Classification proposed\n",
    "\n",
    "En esta seccion clasificaremos utilizando diferentes modelos\n"
   ]
  },
  {
   "cell_type": "code",
   "execution_count": 19,
   "metadata": {},
   "outputs": [],
   "source": [
    "# Import different methods to construct a model\n",
    "import numpy as np\n",
    "from sklearn import metrics\n",
    "from sklearn.model_selection import train_test_split # to split the data into two parts\n",
    "from sklearn.model_selection import KFold # use for cross validation\n",
    "from sklearn.model_selection import GridSearchCV# for tuning parameter\n",
    "from sklearn.linear_model import LogisticRegression # to apply the Logistic regression\n",
    "import mlflow.sklearn\n",
    "from sklearn.ensemble import RandomForestClassifier # for random forest classifier\n",
    "from sklearn.naive_bayes import GaussianNB\n",
    "from sklearn.neighbors import KNeighborsClassifier\n",
    "from sklearn.tree import DecisionTreeClassifier\n",
    "from sklearn import svm\n",
    "import os\n",
    "working_dir = os.getcwd()\n",
    "from mlflow.models import infer_signature\n",
    "\n",
    "def classification_model(model, data, X, output):\n",
    "    \"\"\"\n",
    "    Funcion que toma un modelo de scikit learn y lo entrena y \n",
    "    valida utilizando KFold Validation.\n",
    "    \"\"\"\n",
    "    X_train, X_test, y_train, y_test = train_test_split(X, data[output], test_size = 0.3, random_state=1)\n",
    "    model.fit(X_train, y_train)\n",
    "    y_pred = model.predict(X_test)\n",
    "  \n",
    "    accuracy = metrics.accuracy_score(y_test, y_pred)\n",
    "    precision = metrics.precision_score(y_test, y_pred, average=\"macro\")\n",
    "    recall = metrics.recall_score(y_test, y_pred, average=\"macro\")\n",
    "    f1 = metrics.f1_score(y_test, y_pred, average=\"macro\")\n",
    "    print(\"Accuracy : %s\" % \"{0:.3%}\".format(accuracy))\n",
    "    model_metrics = {\n",
    "        \"accuracy\" : accuracy,\n",
    "        \"precision\" : precision,\n",
    "        \"recall\" : recall,\n",
    "        \"f1\" : f1\n",
    "    }\n",
    " \n",
    "    \n",
    "    kf = KFold()\n",
    "    kf = kf.split(X)\n",
    "    error = []\n",
    "    for i, (train, test) in enumerate(kf):\n",
    "        train_X = (X[train,:])\n",
    "        train_y = data[output].iloc[train]\n",
    "        model.fit(train_X, train_y)\n",
    "    \n",
    "        test_X=X[test,:]\n",
    "        test_y=data[output].iloc[test]\n",
    "        error.append(model.score(test_X,test_y))\n",
    "\n",
    "        print(\"Cross-Validation Score : %s\" % \"{0:.3%}\".format(np.mean(error)))\n",
    "    return model, model_metrics"
   ]
  },
  {
   "cell_type": "code",
   "execution_count": 20,
   "metadata": {},
   "outputs": [],
   "source": [
    "import mlflow\n",
    "import mlflow.sklearn\n",
    "mlflow.set_tracking_uri(uri=\"http://127.0.0.1:8080\")\n",
    "def log_model_into_mlflow(model_name, run_name, model, model_metrics):\n",
    "    with mlflow.start_run(run_name=run_name):\n",
    "        unique_name = f\"{model_name}-{run_name}\"\n",
    "        exp = mlflow.set_experiment(experiment_name=\"NLPChallenge\")\n",
    "        mlflow.set_tag(\"NLPChallenge\", \"Basic model\")\n",
    "        mlflow.log_metrics(model_metrics)\n",
    "        model_info = mlflow.sklearn.log_model(\n",
    "            sk_model=model,\n",
    "            artifact_path=unique_name,\n",
    "            registered_model_name=unique_name,\n",
    "        )"
   ]
  },
  {
   "cell_type": "markdown",
   "metadata": {},
   "source": [
    "## MLDevOps\n"
   ]
  },
  {
   "cell_type": "code",
   "execution_count": 21,
   "metadata": {},
   "outputs": [
    {
     "data": {
      "text/plain": [
       "<6144x17196 sparse matrix of type '<class 'numpy.float64'>'\n",
       "\twith 81905 stored elements in Compressed Sparse Row format>"
      ]
     },
     "execution_count": 21,
     "metadata": {},
     "output_type": "execute_result"
    }
   ],
   "source": [
    "from sklearn.feature_extraction.text import TfidfVectorizer\n",
    "tfidf_vectorizer = TfidfVectorizer(use_idf=True)\n",
    "\n",
    "dataset = [\" \".join(palabra.split()) for palabra in data['lemm_body']]\n",
    "X = tfidf_vectorizer.fit_transform(dataset)\n",
    "X"
   ]
  },
  {
   "cell_type": "code",
   "execution_count": 23,
   "metadata": {},
   "outputs": [
    {
     "name": "stdout",
     "output_type": "stream",
     "text": [
      "Accuracy : 96.963%\n",
      "Cross-Validation Score : 95.932%\n",
      "Cross-Validation Score : 96.094%\n",
      "Cross-Validation Score : 95.959%\n",
      "Cross-Validation Score : 95.952%\n",
      "Cross-Validation Score : 96.078%\n"
     ]
    },
    {
     "name": "stderr",
     "output_type": "stream",
     "text": [
      "c:\\Users\\ferna\\.conda\\envs\\ProgramacionII\\Lib\\site-packages\\_distutils_hack\\__init__.py:11: UserWarning: Distutils was imported before Setuptools, but importing Setuptools also replaces the `distutils` module in `sys.modules`. This may lead to undesirable behaviors or errors. To avoid these issues, avoid using distutils directly, ensure that setuptools is installed in the traditional way (e.g. not an editable install), and/or make sure that setuptools is always imported before distutils.\n",
      "  warnings.warn(\n",
      "c:\\Users\\ferna\\.conda\\envs\\ProgramacionII\\Lib\\site-packages\\_distutils_hack\\__init__.py:26: UserWarning: Setuptools is replacing distutils.\n",
      "  warnings.warn(\"Setuptools is replacing distutils.\")\n",
      "c:\\Users\\ferna\\.conda\\envs\\ProgramacionII\\Lib\\importlib\\__init__.py:126: DeprecationWarning: The distutils package is deprecated and slated for removal in Python 3.12. Use setuptools or check PEP 632 for potential alternatives\n",
      "  return _bootstrap._gcd_import(name[level:], package, level)\n",
      "Successfully registered model 'DecisionTreeClassifier-run_nlp_2'.\n",
      "2024/05/05 13:47:27 INFO mlflow.store.model_registry.abstract_store: Waiting up to 300 seconds for model version to finish creation. Model name: DecisionTreeClassifier-run_nlp_2, version 1\n",
      "Created version '1' of model 'DecisionTreeClassifier-run_nlp_2'.\n"
     ]
    }
   ],
   "source": [
    "outcome_var= \"sentiment\"\n",
    "run_name = \"run_nlp_2\"\n",
    "model = DecisionTreeClassifier()\n",
    "model, model_metrics = classification_model(model,data,X,outcome_var)\n",
    "log_model_into_mlflow(\n",
    "    model_name=\"DecisionTreeClassifier\",\n",
    "    run_name=run_name,\n",
    "    model=model,\n",
    "    model_metrics=model_metrics\n",
    ")"
   ]
  },
  {
   "cell_type": "code",
   "execution_count": 24,
   "metadata": {},
   "outputs": [
    {
     "name": "stdout",
     "output_type": "stream",
     "text": [
      "Accuracy : 90.076%\n",
      "Cross-Validation Score : 88.690%\n",
      "Cross-Validation Score : 88.487%\n",
      "Cross-Validation Score : 88.473%\n",
      "Cross-Validation Score : 89.097%\n",
      "Cross-Validation Score : 89.209%\n"
     ]
    },
    {
     "name": "stderr",
     "output_type": "stream",
     "text": [
      "c:\\Users\\ferna\\.conda\\envs\\ProgramacionII\\Lib\\site-packages\\_distutils_hack\\__init__.py:11: UserWarning: Distutils was imported before Setuptools, but importing Setuptools also replaces the `distutils` module in `sys.modules`. This may lead to undesirable behaviors or errors. To avoid these issues, avoid using distutils directly, ensure that setuptools is installed in the traditional way (e.g. not an editable install), and/or make sure that setuptools is always imported before distutils.\n",
      "  warnings.warn(\n",
      "c:\\Users\\ferna\\.conda\\envs\\ProgramacionII\\Lib\\site-packages\\_distutils_hack\\__init__.py:26: UserWarning: Setuptools is replacing distutils.\n",
      "  warnings.warn(\"Setuptools is replacing distutils.\")\n",
      "c:\\Users\\ferna\\.conda\\envs\\ProgramacionII\\Lib\\importlib\\__init__.py:126: DeprecationWarning: The distutils package is deprecated and slated for removal in Python 3.12. Use setuptools or check PEP 632 for potential alternatives\n",
      "  return _bootstrap._gcd_import(name[level:], package, level)\n",
      "Successfully registered model 'SVC-run_nlp_2'.\n",
      "2024/05/05 13:49:00 INFO mlflow.store.model_registry.abstract_store: Waiting up to 300 seconds for model version to finish creation. Model name: SVC-run_nlp_2, version 1\n",
      "Created version '1' of model 'SVC-run_nlp_2'.\n"
     ]
    }
   ],
   "source": [
    "model = svm.SVC()\n",
    "model, model_metrics = classification_model(model,data,X,outcome_var)\n",
    "log_model_into_mlflow(\n",
    "    model_name=\"SVC\",\n",
    "    run_name=run_name,\n",
    "    model=model,\n",
    "    model_metrics=model_metrics\n",
    ")"
   ]
  },
  {
   "cell_type": "code",
   "execution_count": 25,
   "metadata": {},
   "outputs": [
    {
     "name": "stdout",
     "output_type": "stream",
     "text": [
      "Accuracy : 88.666%\n",
      "Cross-Validation Score : 87.388%\n",
      "Cross-Validation Score : 86.981%\n",
      "Cross-Validation Score : 87.063%\n",
      "Cross-Validation Score : 87.754%\n",
      "Cross-Validation Score : 87.956%\n"
     ]
    },
    {
     "name": "stderr",
     "output_type": "stream",
     "text": [
      "c:\\Users\\ferna\\.conda\\envs\\ProgramacionII\\Lib\\site-packages\\_distutils_hack\\__init__.py:11: UserWarning: Distutils was imported before Setuptools, but importing Setuptools also replaces the `distutils` module in `sys.modules`. This may lead to undesirable behaviors or errors. To avoid these issues, avoid using distutils directly, ensure that setuptools is installed in the traditional way (e.g. not an editable install), and/or make sure that setuptools is always imported before distutils.\n",
      "  warnings.warn(\n",
      "c:\\Users\\ferna\\.conda\\envs\\ProgramacionII\\Lib\\site-packages\\_distutils_hack\\__init__.py:26: UserWarning: Setuptools is replacing distutils.\n",
      "  warnings.warn(\"Setuptools is replacing distutils.\")\n",
      "c:\\Users\\ferna\\.conda\\envs\\ProgramacionII\\Lib\\importlib\\__init__.py:126: DeprecationWarning: The distutils package is deprecated and slated for removal in Python 3.12. Use setuptools or check PEP 632 for potential alternatives\n",
      "  return _bootstrap._gcd_import(name[level:], package, level)\n",
      "Successfully registered model 'KNeighborsClassifier-run_nlp_2'.\n",
      "2024/05/05 13:49:19 INFO mlflow.store.model_registry.abstract_store: Waiting up to 300 seconds for model version to finish creation. Model name: KNeighborsClassifier-run_nlp_2, version 1\n",
      "Created version '1' of model 'KNeighborsClassifier-run_nlp_2'.\n"
     ]
    }
   ],
   "source": [
    "model = KNeighborsClassifier()\n",
    "model, model_metrics = classification_model(model,data,X,outcome_var)\n",
    "log_model_into_mlflow(\n",
    "    model_name=\"KNeighborsClassifier\",\n",
    "    run_name=run_name,\n",
    "    model=model,\n",
    "    model_metrics=model_metrics\n",
    ")"
   ]
  },
  {
   "cell_type": "code",
   "execution_count": 26,
   "metadata": {},
   "outputs": [
    {
     "name": "stdout",
     "output_type": "stream",
     "text": [
      "Accuracy : 94.740%\n",
      "Cross-Validation Score : 93.002%\n",
      "Cross-Validation Score : 92.555%\n",
      "Cross-Validation Score : 92.975%\n",
      "Cross-Validation Score : 93.308%\n",
      "Cross-Validation Score : 93.343%\n"
     ]
    },
    {
     "name": "stderr",
     "output_type": "stream",
     "text": [
      "c:\\Users\\ferna\\.conda\\envs\\ProgramacionII\\Lib\\site-packages\\_distutils_hack\\__init__.py:11: UserWarning: Distutils was imported before Setuptools, but importing Setuptools also replaces the `distutils` module in `sys.modules`. This may lead to undesirable behaviors or errors. To avoid these issues, avoid using distutils directly, ensure that setuptools is installed in the traditional way (e.g. not an editable install), and/or make sure that setuptools is always imported before distutils.\n",
      "  warnings.warn(\n",
      "c:\\Users\\ferna\\.conda\\envs\\ProgramacionII\\Lib\\site-packages\\_distutils_hack\\__init__.py:26: UserWarning: Setuptools is replacing distutils.\n",
      "  warnings.warn(\"Setuptools is replacing distutils.\")\n",
      "c:\\Users\\ferna\\.conda\\envs\\ProgramacionII\\Lib\\importlib\\__init__.py:126: DeprecationWarning: The distutils package is deprecated and slated for removal in Python 3.12. Use setuptools or check PEP 632 for potential alternatives\n",
      "  return _bootstrap._gcd_import(name[level:], package, level)\n",
      "Successfully registered model 'RandomForestClassifier-run_nlp_2'.\n",
      "2024/05/05 13:50:51 INFO mlflow.store.model_registry.abstract_store: Waiting up to 300 seconds for model version to finish creation. Model name: RandomForestClassifier-run_nlp_2, version 1\n",
      "Created version '1' of model 'RandomForestClassifier-run_nlp_2'.\n"
     ]
    }
   ],
   "source": [
    "model = RandomForestClassifier(n_estimators=100)\n",
    "model, model_metrics = classification_model(model,data,X,outcome_var)\n",
    "log_model_into_mlflow(\n",
    "    model_name=\"RandomForestClassifier\",\n",
    "    run_name=run_name,\n",
    "    model=model,\n",
    "    model_metrics=model_metrics\n",
    ")"
   ]
  },
  {
   "cell_type": "code",
   "execution_count": 28,
   "metadata": {},
   "outputs": [
    {
     "data": {
      "text/plain": [
       "<Axes: >"
      ]
     },
     "execution_count": 28,
     "metadata": {},
     "output_type": "execute_result"
    },
    {
     "data": {
      "image/png": "[encoded data removed]",
      "text/plain": [
       "<Figure size 640x480 with 1 Axes>"
      ]
     },
     "metadata": {},
     "output_type": "display_data"
    }
   ],
   "source": [
    "data[\"sentiment\"].hist()"
   ]
  }
 ],
 "metadata": {
  "kernelspec": {
   "display_name": "ProgramacionII",
   "language": "python",
   "name": "python3"
  },
  "language_info": {
   "codemirror_mode": {
    "name": "ipython",
    "version": 3
   },
   "file_extension": ".py",
   "mimetype": "text/x-python",
   "name": "python",
   "nbconvert_exporter": "python",
   "pygments_lexer": "ipython3",
   "version": "3.11.7"
  }
 },
 "nbformat": 4,
 "nbformat_minor": 2
}
